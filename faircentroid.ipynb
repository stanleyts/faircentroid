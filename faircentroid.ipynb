{
 "cells": [
  {
   "cell_type": "markdown",
   "id": "c284f1cf-4acf-40cf-b7ff-d17ef329e2bc",
   "metadata": {},
   "source": [
    "# Fair-Centroid"
   ]
  },
  {
   "cell_type": "markdown",
   "id": "39484e1c-4473-4235-b4f4-f5583af305fb",
   "metadata": {},
   "source": [
    "#### Libraries"
   ]
  },
  {
   "cell_type": "code",
   "execution_count": 1,
   "id": "32dc796f-11a5-4a85-af06-af1aa0a1606f",
   "metadata": {},
   "outputs": [],
   "source": [
    "from importlib import import_module\n",
    "\n",
    "from src import init, metrics\n",
    "from src.algorithms import faircentroid"
   ]
  },
  {
   "cell_type": "markdown",
   "id": "76184aec-e495-41f5-8817-a2157130a3b2",
   "metadata": {},
   "source": [
    "#### Experiment configuration"
   ]
  },
  {
   "cell_type": "code",
   "execution_count": 2,
   "id": "3f28983d-5440-4b61-a977-255a2054179d",
   "metadata": {},
   "outputs": [],
   "source": [
    "DATASET_MODULE = 'adult'\n",
    "DATASET_CONFIG = 'data/datasets/Adult_race/adult.yaml'\n",
    "N_CLUSTERS = 5\n",
    "RANDOM_STATE = 0\n",
    "INIT_METHOD = 'kmeans_plusplus'\n",
    "LAMBDA_ = .5"
   ]
  },
  {
   "cell_type": "markdown",
   "id": "d67c5773-b95b-42d8-b8d5-91917a9fe052",
   "metadata": {},
   "source": [
    "#### Load dataset"
   ]
  },
  {
   "cell_type": "code",
   "execution_count": 3,
   "id": "8716952d-0a1e-4611-a262-93ee6736fe34",
   "metadata": {},
   "outputs": [
    {
     "name": "stdout",
     "output_type": "stream",
     "text": [
      "Loading dataset configuration from 'data/datasets/Adult_race/adult.yaml'\n",
      "Loading processed Adult dataset (Adult_race) from 'data/datasets/Adult_race/adult.csv'\n",
      "  shape: (46033, 28)\n",
      "╭────────────┬───────────┬──────────────────┬───────────────────────┬────────────────────╮\n",
      "│    dataset │   samples │   dimensionality │   sensitive attribute │   sensitive groups │\n",
      "├────────────┼───────────┼──────────────────┼───────────────────────┼────────────────────┤\n",
      "│ Adult_race │     46033 │               26 │                  race │                  5 │\n",
      "╰────────────┴───────────┴──────────────────┴───────────────────────┴────────────────────╯\n"
     ]
    }
   ],
   "source": [
    "dataset_module = import_module(f\"src.datasets.{DATASET_MODULE}\")\n",
    "dataset = dataset_module.load(yamlpath=DATASET_CONFIG)\n",
    "sensitive_groups = dataset['sensitive_groups']\n",
    "X = dataset['X']\n",
    "s = dataset['s']"
   ]
  },
  {
   "cell_type": "markdown",
   "id": "507106e3-7843-4adc-b48f-b1e8ccb86ef3",
   "metadata": {},
   "source": [
    "#### Initialise cluster centroids"
   ]
  },
  {
   "cell_type": "code",
   "execution_count": 4,
   "id": "6876c4ff-5568-4d0a-9168-455a30dd7f8e",
   "metadata": {},
   "outputs": [
    {
     "name": "stdout",
     "output_type": "stream",
     "text": [
      "shape: (5, 26)\n"
     ]
    }
   ],
   "source": [
    "init_method = getattr(import_module(\"src.init\"), INIT_METHOD)\n",
    "init_centroids = init_method(X=X, n_clusters=N_CLUSTERS, random_state=RANDOM_STATE)\n",
    "print(f\"shape: {init_centroids.shape}\")"
   ]
  },
  {
   "cell_type": "markdown",
   "id": "c6980a02-f250-4864-968e-37c1fcbc41cc",
   "metadata": {},
   "source": [
    "#### Run Fair-Centroid"
   ]
  },
  {
   "cell_type": "code",
   "execution_count": 5,
   "id": "027b37e0-7d04-4334-99e6-3694c36564fc",
   "metadata": {},
   "outputs": [
    {
     "name": "stdout",
     "output_type": "stream",
     "text": [
      "Configuration:\n",
      "╭───────────────┬──────────────┬────────────┬────────┬───────┬───────┬────────────┬───────────╮\n",
      "│     algorithm │   n_clusters │   max_iter │    tol │   eta │   phi │   patience │   lambda_ │\n",
      "├───────────────┼──────────────┼────────────┼────────┼───────┼───────┼────────────┼───────────┤\n",
      "│ Fair-Centroid │            5 │        200 │ 0.0001 │ 0.001 │  1000 │         10 │       0.5 │\n",
      "╰───────────────┴──────────────┴────────────┴────────┴───────┴───────┴────────────┴───────────╯\n",
      "Initialising centroids\n",
      "Running algorithm\n",
      "╭──────┬───────────────┬───────────┬───────────┬───────────────┬────────────────╮\n",
      "│ iter │       utility |  fairness | objective │ reassignments │ centroid shift │\n",
      "├──────┼───────────────┼───────────┼───────────┼───────────────┼────────────────┤\n",
      "│    1 │  133509.77497 │  28.29486 │   4.27964 │         46033 │              - │\n",
      "│    2 │   83451.38689 │  12.84802 │   2.19123 │          1122 │    3.70556e+00 │\n",
      "│    3 │   83494.75307 │  12.55909 │   2.16281 │           100 │    7.40961e-02 │\n",
      "│    4 │   83424.28671 │  12.53364 │   2.15950 │            77 │    7.11316e-02 │\n",
      "│    5 │   83428.98093 │  12.52653 │   2.15884 │            15 │    2.23356e-02 │\n",
      "│    6 │   83427.60128 │  12.52649 │   2.15882 │             3 │    1.10787e-03 │\n",
      "│    7 │   83426.58529 │  12.52649 │   2.15881 │             6 │    0.00000e+00 │\n",
      "╰──────┴───────────────┴───────────┴───────────┴───────────────┴────────────────╯\n",
      "Converged at iteration 7: centroid shift 0.0 within tolerance 1.7889162910789108e-05\n"
     ]
    }
   ],
   "source": [
    "c, centroids = faircentroid.run(n_clusters=N_CLUSTERS, X=X, s=s, init_centroids=init_centroids, sensitive_groups=sensitive_groups, lambda_=LAMBDA_)"
   ]
  },
  {
   "cell_type": "markdown",
   "id": "2f8bf3df-e52a-4471-a49c-998e28109fb8",
   "metadata": {},
   "source": [
    "#### Evaluate"
   ]
  },
  {
   "cell_type": "code",
   "execution_count": 6,
   "id": "37482f74-eb40-49ce-817e-869851448ba5",
   "metadata": {},
   "outputs": [
    {
     "name": "stdout",
     "output_type": "stream",
     "text": [
      "Evaluating against all metrics\n",
      "╭───────────────────────────┬────────────╮\n",
      "│ average cluster disparity │ 0.00876847 │\n",
      "│ k-means objective         │ 1.81232    │\n",
      "│ fair centroid objective   │ 2.5053     │\n",
      "│ fair k-means objective    │ 2.11248    │\n",
      "╰───────────────────────────┴────────────╯\n"
     ]
    }
   ],
   "source": [
    "_ = metrics.evaluate(X=X, s=s, c=c, centroids=centroids)"
   ]
  }
 ],
 "metadata": {
  "kernelspec": {
   "display_name": "faircentroid",
   "language": "python",
   "name": "faircentroid"
  },
  "language_info": {
   "codemirror_mode": {
    "name": "ipython",
    "version": 3
   },
   "file_extension": ".py",
   "mimetype": "text/x-python",
   "name": "python",
   "nbconvert_exporter": "python",
   "pygments_lexer": "ipython3",
   "version": "3.11.3"
  }
 },
 "nbformat": 4,
 "nbformat_minor": 5
}
