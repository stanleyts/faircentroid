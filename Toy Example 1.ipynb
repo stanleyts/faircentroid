{
 "cells": [
  {
   "cell_type": "markdown",
   "id": "6174e732-24bf-4463-8ef0-2aa34366f5ee",
   "metadata": {},
   "source": [
    "# Toy Example 1"
   ]
  },
  {
   "cell_type": "markdown",
   "id": "aa22e6ef-28a4-4847-8128-191f6bed05ee",
   "metadata": {},
   "source": [
    "#### Libraries"
   ]
  },
  {
   "cell_type": "code",
   "execution_count": 1,
   "id": "d3be820d-d3fb-4953-b3b5-a713bdcdef41",
   "metadata": {},
   "outputs": [],
   "source": [
    "import matplotlib.pyplot as plt\n",
    "from matplotlib import ticker\n",
    "from matplotlib.patches import FancyBboxPatch"
   ]
  },
  {
   "cell_type": "code",
   "execution_count": 2,
   "id": "88035381-96c5-4e84-b984-9d504b7df0af",
   "metadata": {},
   "outputs": [],
   "source": [
    "plt.rcParams['font.family'] = 'serif'\n",
    "plt.rcParams['font.size'] = 5\n",
    "plt.rcParams['font.serif'] = 'Times New Roman'\n",
    "plt.rcParams['axes.edgecolor'] = 'grey'\n",
    "plt.rcParams['axes.linewidth'] = .3\n",
    "plt.rcParams['axes.spines.top'] = False\n",
    "plt.rcParams['axes.spines.right'] = False\n",
    "plt.rcParams['xtick.labelsize'] = plt.rcParams['ytick.labelsize'] = 'small'\n",
    "plt.rcParams['xtick.major.size'] = plt.rcParams['ytick.major.size'] = 2\n",
    "plt.rcParams['xtick.major.pad'] = plt.rcParams['ytick.major.pad'] = 1\n",
    "plt.rcParams['xtick.color'] = plt.rcParams['ytick.color'] = 'grey'\n",
    "plt.rcParams['savefig.bbox'] = 'tight'\n",
    "plt.rcParams['savefig.format'] = 'pdf'\n",
    "plt.rcParams['savefig.pad_inches'] = 0\n",
    "plt.rcParams['savefig.transparent'] = True\n",
    "plt.rcParams['scatter.marker'] = 'o'\n",
    "plt.rcParams['mathtext.fontset'] = 'cm'\n",
    "plt.rcParams['text.usetex'] = True"
   ]
  },
  {
   "cell_type": "markdown",
   "id": "e312d5d5-4ee9-4319-af49-0128419841c3",
   "metadata": {},
   "source": [
    "#### Plot"
   ]
  },
  {
   "cell_type": "code",
   "execution_count": 3,
   "id": "7bd334af",
   "metadata": {},
   "outputs": [
    {
     "data": {
      "image/png": "[encoded data removed]",
      "text/plain": [
       "<Figure size 216.535x216.535 with 1 Axes>"
      ]
     },
     "metadata": {},
     "output_type": "display_data"
    }
   ],
   "source": [
    "mm = 1/25.4\n",
    "_, ax = plt.subplots(figsize=(55*mm, 55*mm))\n",
    "_ = ax.set_xlim(0, 95)\n",
    "_ = ax.set_ylim(0, 60)\n",
    "ax.add_patch(FancyBboxPatch((5, 5), 50, 50, boxstyle='circle', color='gainsboro', alpha=.5))\n",
    "ax.add_patch(FancyBboxPatch((70, 20), 20, 20, boxstyle='circle', color='gainsboro', alpha=.5))\n",
    "_ = ax.plot(30, 30, c='black', marker='o', ms=3)\n",
    "_ = ax.plot(30, 50, mec='tab:red', mfc='white', marker='o', ms=3)\n",
    "_ = ax.plot(30, 45, mec='tab:purple', mfc='white', marker='o', ms=3)\n",
    "_ = ax.plot(80, 30, c='black', marker='o', ms=3)\n",
    "_ = ax.plot(80, 34, mec='tab:red', mfc='white', marker='o', ms=3)\n",
    "_ = ax.plot(80, 39, mec='tab:purple', mfc='white', marker='o', ms=3)\n",
    "ax.xaxis.set_major_locator(ticker.MultipleLocator(20))\n",
    "ax.yaxis.set_major_locator(ticker.MultipleLocator(20))\n",
    "ax.set_aspect('equal')\n",
    "ax.figure.savefig('data/toy/toy-1.pdf')"
   ]
  }
 ],
 "metadata": {
  "kernelspec": {
   "display_name": "faircentroid",
   "language": "python",
   "name": "faircentroid"
  },
  "language_info": {
   "codemirror_mode": {
    "name": "ipython",
    "version": 3
   },
   "file_extension": ".py",
   "mimetype": "text/x-python",
   "name": "python",
   "nbconvert_exporter": "python",
   "pygments_lexer": "ipython3",
   "version": "3.11.3"
  }
 },
 "nbformat": 4,
 "nbformat_minor": 5
}
