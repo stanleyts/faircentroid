{
 "cells": [
  {
   "cell_type": "markdown",
   "id": "c38f287a-3aa1-4264-ad69-d0d6c6eb2067",
   "metadata": {},
   "source": [
    "# Toy Example 3"
   ]
  },
  {
   "cell_type": "markdown",
   "id": "00630d7a-bc3a-40b8-958a-8d1b5902cd81",
   "metadata": {},
   "source": [
    "#### Libraries"
   ]
  },
  {
   "cell_type": "code",
   "execution_count": 1,
   "id": "8f55c53f-3d8f-4e0e-891a-4b8a4a1a96e0",
   "metadata": {},
   "outputs": [],
   "source": [
    "import matplotlib.pyplot as plt\n",
    "import numpy as np\n",
    "import pandas as pd\n",
    "from matplotlib import ticker\n",
    "from matplotlib.patches import FancyBboxPatch\n",
    "from pandas import DataFrame, Index, Series\n",
    "from tabulate import tabulate\n",
    "\n",
    "from src import metrics\n",
    "from src.algorithms import lloyd, fairlloyd_gd, faircentroid"
   ]
  },
  {
   "cell_type": "code",
   "execution_count": 2,
   "id": "ea4077b6-f3b2-493a-8682-70d19c083d59",
   "metadata": {},
   "outputs": [],
   "source": [
    "plt.rcParams['axes.edgecolor'] = 'grey'\n",
    "plt.rcParams['axes.linewidth'] = .5\n",
    "plt.rcParams['axes.spines.top'] = False\n",
    "plt.rcParams['axes.spines.right'] = False\n",
    "plt.rcParams['xtick.labelsize'] = plt.rcParams['ytick.labelsize'] = 'small'\n",
    "plt.rcParams['xtick.major.size'] = plt.rcParams['ytick.major.size'] = 2\n",
    "plt.rcParams['xtick.major.pad'] = plt.rcParams['ytick.major.pad'] = 1\n",
    "plt.rcParams['xtick.color'] = plt.rcParams['ytick.color'] = 'grey'\n",
    "plt.rcParams['savefig.bbox'] = 'tight'\n",
    "plt.rcParams['savefig.format'] = 'pdf'\n",
    "plt.rcParams['savefig.pad_inches'] = 0\n",
    "plt.rcParams['savefig.transparent'] = True\n",
    "plt.rcParams['scatter.marker'] = 'o'\n",
    "plt.rcParams['font.family'] = 'serif'\n",
    "plt.rcParams['font.serif'] = 'Times New Roman'\n",
    "plt.rcParams['font.size'] = 5\n",
    "plt.rcParams['mathtext.fontset'] = 'cm'\n",
    "plt.rcParams['text.usetex'] = True"
   ]
  },
  {
   "cell_type": "markdown",
   "id": "519aa318-850c-4c66-98d4-548e8f1ba772",
   "metadata": {},
   "source": [
    "#### Plotting functions"
   ]
  },
  {
   "cell_type": "code",
   "execution_count": 3,
   "id": "54ea58ac-bf92-42b3-8f16-078cbc423b4e",
   "metadata": {},
   "outputs": [],
   "source": [
    "def plot(X, s, c=None, centroids=None, ax=None, figsize=(29, 50), pad=.03, figname=None):\n",
    "    if ax is None:\n",
    "        mm = 1/25.4\n",
    "        _, ax = plt.subplots(figsize=(figsize[0]*mm, figsize[1]*mm))\n",
    "    xmin, xmax = X['x'].aggregate([min, max])\n",
    "    ymin, ymax = X['y'].aggregate([min, max])\n",
    "    fpad = 2 * pad * max(xmax-xmin, ymax-ymin)\n",
    "    _ = ax.set_xlim(0, xmax+fpad)\n",
    "    _ = ax.set_ylim(0, ymax+fpad)\n",
    "    if c is not None:\n",
    "        vertices = X.groupby(c, sort=False).aggregate([min, max])\n",
    "        cpad = pad * vertices.aggregate(lambda row: max(row[('x', 'max')]-row[('x', 'min')], row[('y', 'max')]-row[('y', 'min')]), axis='columns').max()\n",
    "        for C, (xmin, xmax, ymin, ymax) in vertices.iterrows():\n",
    "            width = xmax - xmin + 1.5*cpad\n",
    "            height = ymax - ymin + 1.5*cpad\n",
    "            ax.add_patch(FancyBboxPatch((xmin-cpad, ymin-cpad), width, height, boxstyle='round, rounding_size=3', color='gainsboro', alpha=.5))\n",
    "            _ = ax.annotate(fr\"${{C_{C}}}$\", (xmin+1.5*cpad, ymin-4*cpad), fontsize=7, ha='right')\n",
    "    _ = ax.scatter(x=X['x'], y=X['y'], s=1, linewidths=.3, edgecolors=s, facecolors='none', alpha=.4)\n",
    "    if centroids is not None:\n",
    "        _ = ax.scatter(x=centroids['x'], y=centroids['y'], s=3, c='black')\n",
    "    ax.xaxis.set_major_locator(ticker.MultipleLocator(20))\n",
    "    ax.yaxis.set_major_locator(ticker.MultipleLocator(20))\n",
    "    ax.set_aspect('equal')\n",
    "    if figname is not None:\n",
    "        ax.figure.savefig(f'data/toy/{figname}.pdf')"
   ]
  },
  {
   "cell_type": "markdown",
   "id": "bbddd6fa-3e2d-4a76-975b-74c8aaa5d1ab",
   "metadata": {},
   "source": [
    "#### Dataset"
   ]
  },
  {
   "cell_type": "code",
   "execution_count": 4,
   "id": "404f5cf1-98da-4c78-ae3c-42b9afa318d8",
   "metadata": {},
   "outputs": [
    {
     "data": {
      "image/png": "[encoded data removed]",
      "text/plain": [
       "<Figure size 114.173x196.85 with 1 Axes>"
      ]
     },
     "metadata": {},
     "output_type": "display_data"
    }
   ],
   "source": [
    "sparsity = .05\n",
    "\n",
    "r0 = {'mean': [27, 85], 'size': 100}\n",
    "r0['cov'] = np.sqrt(sparsity * r0['size']) * np.eye(2)\n",
    "\n",
    "p0a = {'mean': [41, 85], 'size': 300}\n",
    "p0a['cov'] = np.sqrt(sparsity * p0a['size']) * np.eye(2)\n",
    "\n",
    "p0b = {'mean': [13, 85], 'size': 300}\n",
    "p0b['cov'] = np.sqrt(sparsity * p0b['size']) * np.eye(2)\n",
    "\n",
    "r1 = {'mean': [15, 34], 'size': 300}\n",
    "r1['cov'] = np.sqrt(sparsity * r1['size']) * np.eye(2)\n",
    "\n",
    "p1 = {'mean': [17, 11], 'size': 100}\n",
    "p1['cov'] = np.sqrt(sparsity * p1['size']) * np.eye(2)\n",
    "\n",
    "r2 = {'mean': [39, 34], 'size': 300}\n",
    "r2['cov'] = np.sqrt(sparsity * r2['size']) * np.eye(2)\n",
    "\n",
    "p2 = {'mean': [37, 11], 'size': 100}\n",
    "p2['cov'] = np.sqrt(sparsity * p2['size']) * np.eye(2)\n",
    "\n",
    "columns = Index(['x', 'y'], name='attribute')\n",
    "r0_df = DataFrame(np.random.default_rng(0).multivariate_normal(**r0), columns=columns)\n",
    "r0_df['color'] = 'tab:red'\n",
    "p0a_df = DataFrame(np.random.default_rng(1).multivariate_normal(**p0a), columns=columns)\n",
    "p0a_df['color'] = 'tab:purple'\n",
    "p0b_df = DataFrame(np.random.default_rng(2).multivariate_normal(**p0b), columns=columns)\n",
    "p0b_df['color'] = 'tab:purple'\n",
    "\n",
    "r1_df = DataFrame(np.random.default_rng(3).multivariate_normal(**r1), columns=columns)\n",
    "r1_df['color'] = 'tab:red'\n",
    "p1_df = DataFrame(np.random.default_rng(4).multivariate_normal(**p1), columns=columns)\n",
    "p1_df['color'] = 'tab:purple'\n",
    "\n",
    "r2_df = DataFrame(np.random.default_rng(5).multivariate_normal(**r2), columns=columns)\n",
    "r2_df['color'] = 'tab:purple'\n",
    "p2_df = DataFrame(np.random.default_rng(6).multivariate_normal(**p2), columns=columns)\n",
    "p2_df['color'] = 'tab:red'\n",
    "\n",
    "dataset = pd.concat([r0_df, p0a_df, p0b_df, r1_df, p1_df, r2_df, p2_df], ignore_index=True)\n",
    "dataset.index.name = 'object'\n",
    "X = dataset.drop('color', axis='columns')\n",
    "s = dataset.filter(['color'], axis='columns').squeeze()\n",
    "sensitive_groups = list(s.unique())\n",
    "\n",
    "plot(X, s)"
   ]
  },
  {
   "cell_type": "markdown",
   "id": "dc5af720-f229-4944-a659-fcf4f9fa801a",
   "metadata": {},
   "source": [
    "#### Initial configurations"
   ]
  },
  {
   "cell_type": "code",
   "execution_count": 5,
   "id": "2b9bd87b-4b08-4367-a8e6-25e05cb159c5",
   "metadata": {},
   "outputs": [],
   "source": [
    "init_c1 = Series([0]*r0['size'] + [0]*p0a['size'] + [0]*p0b['size'] + [1]*r1['size'] + [1]*p1['size'] + [2]*r2['size'] + [2]*p2['size'], name='cluster')\n",
    "init_centroids1 = X.groupby(init_c1).mean()\n",
    "init_centroids1.index.name = 'cluster'\n",
    "\n",
    "init_c2 = Series([0]*r0['size'] + [0]*p0a['size'] + [0]*p0b['size'] + [1]*r1['size'] + [2]*p1['size'] + [1]*r2['size'] + [2]*p2['size'], name='cluster')\n",
    "init_centroids2 = X.groupby(init_c2).mean()\n",
    "init_centroids2.index.name = 'cluster'"
   ]
  },
  {
   "cell_type": "markdown",
   "id": "d1b86738-2c91-40cb-9578-f976788aa0b7",
   "metadata": {},
   "source": [
    "#### $k$-means"
   ]
  },
  {
   "cell_type": "code",
   "execution_count": 6,
   "id": "5c3a16c1-774b-4f8c-adc8-6414ea95c9ce",
   "metadata": {},
   "outputs": [
    {
     "name": "stdout",
     "output_type": "stream",
     "text": [
      "Configuration:\n",
      "╭─────────────┬──────────────┬────────────┬────────╮\n",
      "│   algorithm │   n_clusters │   max_iter │    tol │\n",
      "├─────────────┼──────────────┼────────────┼────────┤\n",
      "│       Lloyd │            3 │        200 │ 0.0001 │\n",
      "╰─────────────┴──────────────┴────────────┴────────╯\n",
      "Initialising centroids\n",
      "Running algorithm\n",
      "╭──────┬───────────────┬───────────────┬────────────────╮\n",
      "│ iter │     objective │ reassignments │ centroid shift │\n",
      "├──────┼───────────────┼───────────────┼────────────────┤\n",
      "│    1 │  205791.02660 │          1500 │              - │\n",
      "│    2 │  205791.02660 │             0 │    0.00000e+00 │\n",
      "╰──────┴───────────────┴───────────────┴────────────────╯\n",
      "Converged at iteration 2: strict convergence\n"
     ]
    },
    {
     "data": {
      "image/png": "[encoded data removed]",
      "text/plain": [
       "<Figure size 114.173x196.85 with 1 Axes>"
      ]
     },
     "metadata": {},
     "output_type": "display_data"
    }
   ],
   "source": [
    "c_lloyd1, centroids_lloyd1 = lloyd.run(n_clusters=3, X=X, init_centroids=init_centroids1)\n",
    "plot(X=X, s=s, c=c_lloyd1, centroids=centroids_lloyd1, figname='toy-3-kmeans')"
   ]
  },
  {
   "cell_type": "code",
   "execution_count": 7,
   "id": "2a058a31-ec50-4edf-bab3-50993d5ad24b",
   "metadata": {},
   "outputs": [
    {
     "name": "stdout",
     "output_type": "stream",
     "text": [
      "Configuration:\n",
      "╭─────────────┬──────────────┬────────────┬────────╮\n",
      "│   algorithm │   n_clusters │   max_iter │    tol │\n",
      "├─────────────┼──────────────┼────────────┼────────┤\n",
      "│       Lloyd │            3 │        200 │ 0.0001 │\n",
      "╰─────────────┴──────────────┴────────────┴────────╯\n",
      "Initialising centroids\n",
      "Running algorithm\n",
      "╭──────┬───────────────┬───────────────┬────────────────╮\n",
      "│ iter │     objective │ reassignments │ centroid shift │\n",
      "├──────┼───────────────┼───────────────┼────────────────┤\n",
      "│    1 │  232576.85772 │          1500 │              - │\n",
      "│    2 │  232576.85772 │             0 │    0.00000e+00 │\n",
      "╰──────┴───────────────┴───────────────┴────────────────╯\n",
      "Converged at iteration 2: strict convergence\n"
     ]
    },
    {
     "data": {
      "image/png": "[encoded data removed]",
      "text/plain": [
       "<Figure size 114.173x196.85 with 1 Axes>"
      ]
     },
     "metadata": {},
     "output_type": "display_data"
    }
   ],
   "source": [
    "c_lloyd2, centroids_lloyd2 = lloyd.run(n_clusters=3, X=X, init_centroids=init_centroids2)\n",
    "plot(X=X, s=s, c=c_lloyd2, centroids=centroids_lloyd2)"
   ]
  },
  {
   "cell_type": "code",
   "execution_count": 8,
   "id": "eb164076-787c-47b4-8a13-d445d32d3c9c",
   "metadata": {},
   "outputs": [
    {
     "name": "stdout",
     "output_type": "stream",
     "text": [
      "Evaluating against all metrics\n",
      "Evaluating against all metrics\n",
      "╭───────────────────────────┬────────────────────┬────────────────────╮\n",
      "│ metric                    │   initialisation 1 │   initialisation 2 │\n",
      "├───────────────────────────┼────────────────────┼────────────────────┤\n",
      "│ average cluster disparity │            1.27124 │           0.448709 │\n",
      "│ k-means objective         │          137.194   │         155.051    │\n",
      "│ fair centroid objective   │          267.931   │         152.365    │\n",
      "│ fair k-means objective    │          163.364   │         176.474    │\n",
      "╰───────────────────────────┴────────────────────┴────────────────────╯\n"
     ]
    }
   ],
   "source": [
    "kwargs = {'X': X, 's': s, 'display': False}\n",
    "scores_lloyd = pd.concat(\n",
    "    {'initialisation 1': metrics.evaluate(c=c_lloyd1, centroids=centroids_lloyd1, **kwargs),\n",
    "     'initialisation 2': metrics.evaluate(c=c_lloyd2, centroids=centroids_lloyd2, **kwargs)\n",
    "     },\n",
    "    names=['objectives']\n",
    "    )\n",
    "print(tabulate(scores_lloyd.unstack(level='objectives'), headers='keys', tablefmt='rounded_outline'))"
   ]
  },
  {
   "cell_type": "markdown",
   "id": "2736abcb-01a9-44cf-8427-2e43af9abba6",
   "metadata": {},
   "source": [
    "#### fair $k$-means"
   ]
  },
  {
   "cell_type": "code",
   "execution_count": 9,
   "id": "8b35e417-7c23-454d-888c-d5c944ba1ab4",
   "metadata": {},
   "outputs": [
    {
     "name": "stdout",
     "output_type": "stream",
     "text": [
      "Configuration:\n",
      "╭───────────────────────────────┬──────────────┬────────────┬───────┬───────┬───────┬────────────╮\n",
      "│                     algorithm │   n_clusters │   max_iter │   tol │   eta │   phi │   patience │\n",
      "├───────────────────────────────┼──────────────┼────────────┼───────┼───────┼───────┼────────────┤\n",
      "│ Fair-Lloyd (Gradient Descent) │            3 │        200 │ 1e-11 │ 0.001 │  1000 │         10 │\n",
      "╰───────────────────────────────┴──────────────┴────────────┴───────┴───────┴───────┴────────────╯\n",
      "Initialising centroids\n",
      "Running algorithm\n",
      "╭──────┬───────────┬───────────────┬────────────────╮\n",
      "│ iter │ objective │ reassignments │ centroid shift │\n",
      "├──────┼───────────┼───────────────┼────────────────┤\n",
      "│    1 │ 163.36409 │          1500 │              - │\n",
      "│    2 │ 143.73350 │             0 │    4.94303e+00 │\n",
      "╰──────┴───────────┴───────────────┴────────────────╯\n",
      "Converged at iteration 2: strict convergence\n"
     ]
    },
    {
     "data": {
      "image/png": "[encoded data removed]",
      "text/plain": [
       "<Figure size 114.173x196.85 with 1 Axes>"
      ]
     },
     "metadata": {},
     "output_type": "display_data"
    }
   ],
   "source": [
    "c_fairlloyd1, centroids_fairlloyd1 = fairlloyd_gd.run(n_clusters=3, X=X, s=s, init_centroids=init_centroids1, tol=1e-11)\n",
    "plot(X=X, s=s, c=c_fairlloyd1, centroids=centroids_fairlloyd1, figname='toy-3-fairkmeans')"
   ]
  },
  {
   "cell_type": "code",
   "execution_count": 10,
   "id": "3c8be602-c27b-4c89-834e-5137c85f4da4",
   "metadata": {},
   "outputs": [
    {
     "name": "stdout",
     "output_type": "stream",
     "text": [
      "Configuration:\n",
      "╭───────────────────────────────┬──────────────┬────────────┬───────┬───────┬───────┬────────────╮\n",
      "│                     algorithm │   n_clusters │   max_iter │   tol │   eta │   phi │   patience │\n",
      "├───────────────────────────────┼──────────────┼────────────┼───────┼───────┼───────┼────────────┤\n",
      "│ Fair-Lloyd (Gradient Descent) │            3 │        200 │ 1e-11 │ 0.001 │  1000 │         10 │\n",
      "╰───────────────────────────────┴──────────────┴────────────┴───────┴───────┴───────┴────────────╯\n",
      "Initialising centroids\n",
      "Running algorithm\n",
      "╭──────┬───────────┬───────────────┬────────────────╮\n",
      "│ iter │ objective │ reassignments │ centroid shift │\n",
      "├──────┼───────────┼───────────────┼────────────────┤\n",
      "│    1 │ 176.47404 │          1500 │              - │\n",
      "│    2 │ 158.03526 │             0 │    2.76639e+00 │\n",
      "╰──────┴───────────┴───────────────┴────────────────╯\n",
      "Converged at iteration 2: strict convergence\n"
     ]
    },
    {
     "data": {
      "image/png": "[encoded data removed]",
      "text/plain": [
       "<Figure size 114.173x196.85 with 1 Axes>"
      ]
     },
     "metadata": {},
     "output_type": "display_data"
    }
   ],
   "source": [
    "c_fairlloyd2, centroids_fairlloyd2 = fairlloyd_gd.run(n_clusters=3, X=X, s=s, init_centroids=init_centroids2, tol=1e-11)\n",
    "plot(X=X, s=s, c=c_fairlloyd2, centroids=centroids_fairlloyd2)"
   ]
  },
  {
   "cell_type": "code",
   "execution_count": 11,
   "id": "15f19d4e-d6b4-4567-ab65-02bde1013496",
   "metadata": {},
   "outputs": [
    {
     "name": "stdout",
     "output_type": "stream",
     "text": [
      "Evaluating against all metrics\n",
      "Evaluating against all metrics\n",
      "╭───────────────────────────┬────────────────────┬────────────────────╮\n",
      "│ metric                    │   initialisation 1 │   initialisation 2 │\n",
      "├───────────────────────────┼────────────────────┼────────────────────┤\n",
      "│ average cluster disparity │            1.09681 │           0.727102 │\n",
      "│ k-means objective         │          143.71    │         157.939    │\n",
      "│ fair centroid objective   │          265.665   │         181.406    │\n",
      "│ fair k-means objective    │          143.733   │         158.035    │\n",
      "╰───────────────────────────┴────────────────────┴────────────────────╯\n"
     ]
    }
   ],
   "source": [
    "kwargs = {'X': X, 's': s, 'display': False}\n",
    "scores_fairlloyd = pd.concat(\n",
    "    {'initialisation 1': metrics.evaluate(c=c_fairlloyd1, centroids=centroids_fairlloyd1, **kwargs),\n",
    "     'initialisation 2': metrics.evaluate(c=c_fairlloyd2, centroids=centroids_fairlloyd2, **kwargs)\n",
    "     },\n",
    "    names=['objectives']\n",
    "    )\n",
    "print(tabulate(scores_fairlloyd.unstack(level='objectives'), headers='keys', tablefmt='rounded_outline'))"
   ]
  },
  {
   "cell_type": "markdown",
   "id": "bd6c5016-b688-49dc-9dfa-8f904844b5c2",
   "metadata": {},
   "source": [
    "#### fair centroids"
   ]
  },
  {
   "cell_type": "code",
   "execution_count": 12,
   "id": "f8857e68-2661-4b16-8232-57f52a90efbf",
   "metadata": {},
   "outputs": [
    {
     "name": "stdout",
     "output_type": "stream",
     "text": [
      "Configuration:\n",
      "╭───────────────┬──────────────┬────────────┬───────┬───────┬───────┬────────────┬───────────╮\n",
      "│     algorithm │   n_clusters │   max_iter │   tol │   eta │   phi │   patience │   lambda_ │\n",
      "├───────────────┼──────────────┼────────────┼───────┼───────┼───────┼────────────┼───────────┤\n",
      "│ Fair-Centroid │            3 │        200 │ 1e-11 │ 0.001 │  1000 │         10 │       0.9 │\n",
      "╰───────────────┴──────────────┴────────────┴───────┴───────┴───────┴────────────┴───────────╯\n",
      "Initialising centroids\n",
      "Running algorithm\n",
      "╭──────┬───────────────┬───────────┬───────────┬───────────────┬────────────────╮\n",
      "│ iter │       utility |  fairness | objective │ reassignments │ centroid shift │\n",
      "├──────┼───────────────┼───────────┼───────────┼───────────────┼────────────────┤\n",
      "│    1 │  205791.02660 │ 803.79368 │ 254.85751 │          1500 │              - │\n",
      "│    2 │  231543.04044 │ 477.36399 │ 158.64540 │             0 │    8.02371e+00 │\n",
      "╰──────┴───────────────┴───────────┴───────────┴───────────────┴────────────────╯\n",
      "Converged at iteration 2: strict convergence\n"
     ]
    },
    {
     "data": {
      "image/png": "[encoded data removed]",
      "text/plain": [
       "<Figure size 114.173x196.85 with 1 Axes>"
      ]
     },
     "metadata": {},
     "output_type": "display_data"
    }
   ],
   "source": [
    "c_faircentroid1, centroids_faircentroid1 = faircentroid.run(n_clusters=3, X=X, s=s, init_centroids=init_centroids1, sensitive_groups=sensitive_groups, lambda_=.9, tol=1e-11)\n",
    "plot(X=X, s=s, c=c_faircentroid1, centroids=centroids_faircentroid1)"
   ]
  },
  {
   "cell_type": "code",
   "execution_count": 13,
   "id": "8daa924c-d0e3-4d19-b8fb-f5191b710208",
   "metadata": {},
   "outputs": [
    {
     "name": "stdout",
     "output_type": "stream",
     "text": [
      "Configuration:\n",
      "╭───────────────┬──────────────┬────────────┬───────┬───────┬───────┬────────────┬───────────╮\n",
      "│     algorithm │   n_clusters │   max_iter │   tol │   eta │   phi │   patience │   lambda_ │\n",
      "├───────────────┼──────────────┼────────────┼───────┼───────┼───────┼────────────┼───────────┤\n",
      "│ Fair-Centroid │            3 │        200 │ 1e-11 │ 0.001 │  1000 │         10 │       0.9 │\n",
      "╰───────────────┴──────────────┴────────────┴───────┴───────┴───────┴────────────┴───────────╯\n",
      "Initialising centroids\n",
      "Running algorithm\n",
      "╭──────┬───────────────┬───────────┬───────────┬───────────────┬────────────────╮\n",
      "│ iter │       utility |  fairness | objective │ reassignments │ centroid shift │\n",
      "├──────┼───────────────┼───────────┼───────────┼───────────────┼────────────────┤\n",
      "│    1 │  232576.85772 │ 457.09353 │ 152.63318 │          1500 │              - │\n",
      "│    2 │  232576.85775 │ 457.09447 │ 152.63347 │             0 │    2.12138e-04 │\n",
      "╰──────┴───────────────┴───────────┴───────────┴───────────────┴────────────────╯\n",
      "Converged at iteration 2: strict convergence\n"
     ]
    },
    {
     "data": {
      "image/png": "[encoded data removed]",
      "text/plain": [
       "<Figure size 114.173x196.85 with 1 Axes>"
      ]
     },
     "metadata": {},
     "output_type": "display_data"
    }
   ],
   "source": [
    "c_faircentroid2, centroids_faircentroid2 = faircentroid.run(n_clusters=3, X=X, s=s, init_centroids=init_centroids2, sensitive_groups=sensitive_groups, lambda_=.9, tol=1e-11)\n",
    "plot(X=X, s=s, c=c_faircentroid2, centroids=centroids_faircentroid2, figname='toy-3-faircentroids')"
   ]
  },
  {
   "cell_type": "code",
   "execution_count": 14,
   "id": "5d9c0b7a-7cd7-4e7e-a2a5-4fe9866c0baa",
   "metadata": {},
   "outputs": [
    {
     "name": "stdout",
     "output_type": "stream",
     "text": [
      "Evaluating against all metrics\n",
      "Evaluating against all metrics\n",
      "╭───────────────────────────┬────────────────────┬────────────────────╮\n",
      "│ metric                    │   initialisation 1 │   initialisation 2 │\n",
      "├───────────────────────────┼────────────────────┼────────────────────┤\n",
      "│ average cluster disparity │           0.448718 │           0.448709 │\n",
      "│ k-means objective         │         154.362    │         155.051    │\n",
      "│ fair centroid objective   │         159.121    │         152.365    │\n",
      "│ fair k-means objective    │         175.651    │         176.474    │\n",
      "╰───────────────────────────┴────────────────────┴────────────────────╯\n"
     ]
    }
   ],
   "source": [
    "kwargs = {'X': X, 's': s, 'display': False}\n",
    "scores_faircentroid = pd.concat(\n",
    "    {'initialisation 1': metrics.evaluate(c=c_faircentroid1, centroids=centroids_faircentroid1, **kwargs),\n",
    "     'initialisation 2': metrics.evaluate(c=c_faircentroid2, centroids=centroids_faircentroid2, **kwargs)\n",
    "     },\n",
    "    names=['objectives']\n",
    "    )\n",
    "print(tabulate(scores_faircentroid.unstack(level='objectives'), headers='keys', tablefmt='rounded_outline'))"
   ]
  }
 ],
 "metadata": {
  "kernelspec": {
   "display_name": "faircentroid",
   "language": "python",
   "name": "faircentroid"
  },
  "language_info": {
   "codemirror_mode": {
    "name": "ipython",
    "version": 3
   },
   "file_extension": ".py",
   "mimetype": "text/x-python",
   "name": "python",
   "nbconvert_exporter": "python",
   "pygments_lexer": "ipython3",
   "version": "3.11.3"
  }
 },
 "nbformat": 4,
 "nbformat_minor": 5
}
