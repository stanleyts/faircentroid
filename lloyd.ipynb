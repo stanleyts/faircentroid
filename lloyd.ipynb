{
 "cells": [
  {
   "cell_type": "markdown",
   "id": "3562e09e",
   "metadata": {
    "tags": []
   },
   "source": [
    "# Lloyd's Heuristic"
   ]
  },
  {
   "cell_type": "markdown",
   "id": "990211f7",
   "metadata": {},
   "source": [
    "#### Libraries"
   ]
  },
  {
   "cell_type": "code",
   "execution_count": 1,
   "id": "aaf81fac",
   "metadata": {
    "tags": []
   },
   "outputs": [],
   "source": [
    "from importlib import import_module\n",
    "\n",
    "from src import init, metrics\n",
    "from src.algorithms import lloyd"
   ]
  },
  {
   "cell_type": "markdown",
   "id": "8d90196f-42c3-4643-a1b6-4ebce1999b78",
   "metadata": {},
   "source": [
    "#### Experiment configuration"
   ]
  },
  {
   "cell_type": "code",
   "execution_count": 2,
   "id": "89d39bcf-166c-46da-984a-a51190cabbaf",
   "metadata": {},
   "outputs": [],
   "source": [
    "DATASET_MODULE = 'adult'\n",
    "DATASET_CONFIG = 'data/datasets/Adult_race/adult.yaml'\n",
    "N_CLUSTERS = 5\n",
    "RANDOM_STATE = 0\n",
    "INIT_METHOD = 'kmeans_plusplus'"
   ]
  },
  {
   "cell_type": "markdown",
   "id": "663c08c3-7b39-4e74-b59b-13a5f6c17fd8",
   "metadata": {},
   "source": [
    "#### Load dataset"
   ]
  },
  {
   "cell_type": "code",
   "execution_count": 3,
   "id": "26a4d81b-66e7-4add-bd74-ff8865453a3b",
   "metadata": {},
   "outputs": [
    {
     "name": "stdout",
     "output_type": "stream",
     "text": [
      "Loading dataset configuration from 'data/datasets/Adult_race/adult.yaml'\n",
      "Loading processed Adult dataset (Adult_race) from 'data/datasets/Adult_race/adult.csv'\n",
      "  shape: (46033, 28)\n",
      "╭────────────┬───────────┬──────────────────┬───────────────────────┬────────────────────╮\n",
      "│    dataset │   samples │   dimensionality │   sensitive attribute │   sensitive groups │\n",
      "├────────────┼───────────┼──────────────────┼───────────────────────┼────────────────────┤\n",
      "│ Adult_race │     46033 │               26 │                  race │                  5 │\n",
      "╰────────────┴───────────┴──────────────────┴───────────────────────┴────────────────────╯\n"
     ]
    }
   ],
   "source": [
    "dataset_module = import_module(f\"src.datasets.{DATASET_MODULE}\")\n",
    "dataset = dataset_module.load(yamlpath=DATASET_CONFIG)\n",
    "X = dataset['X']\n",
    "s = dataset['s']"
   ]
  },
  {
   "cell_type": "markdown",
   "id": "325cffdc-fc6d-4573-8f2e-92642453f5df",
   "metadata": {},
   "source": [
    "#### Initialise cluster centroids"
   ]
  },
  {
   "cell_type": "code",
   "execution_count": 4,
   "id": "2c87e0da-a3da-4093-806e-19b6de39208f",
   "metadata": {},
   "outputs": [
    {
     "name": "stdout",
     "output_type": "stream",
     "text": [
      "shape: (5, 26)\n"
     ]
    }
   ],
   "source": [
    "init_method = getattr(import_module(\"src.init\"), INIT_METHOD)\n",
    "init_centroids = init_method(X=X, n_clusters=N_CLUSTERS, random_state=RANDOM_STATE)\n",
    "print(f\"shape: {init_centroids.shape}\")"
   ]
  },
  {
   "cell_type": "markdown",
   "id": "c8040cc1-8a1a-40cb-9119-416ae00caeb3",
   "metadata": {},
   "source": [
    "#### Run Lloyd's heuristic"
   ]
  },
  {
   "cell_type": "code",
   "execution_count": 5,
   "id": "97120307-80a8-4b23-a696-fc6666b6ae18",
   "metadata": {},
   "outputs": [
    {
     "name": "stdout",
     "output_type": "stream",
     "text": [
      "Configuration:\n",
      "╭─────────────┬──────────────┬────────────┬────────╮\n",
      "│   algorithm │   n_clusters │   max_iter │    tol │\n",
      "├─────────────┼──────────────┼────────────┼────────┤\n",
      "│       Lloyd │            5 │        200 │ 0.0001 │\n",
      "╰─────────────┴──────────────┴────────────┴────────╯\n",
      "Initialising centroids\n",
      "Running algorithm\n",
      "╭──────┬───────────────┬───────────────┬────────────────╮\n",
      "│ iter │     objective │ reassignments │ centroid shift │\n",
      "├──────┼───────────────┼───────────────┼────────────────┤\n",
      "│    1 │  133509.77497 │         46033 │              - │\n",
      "│    2 │   81471.81227 │          1749 │    3.56439e+00 │\n",
      "│    3 │   80988.55106 │           436 │    2.87519e-01 │\n",
      "│    4 │   80942.15572 │           163 │    6.74017e-02 │\n",
      "│    5 │   80934.72284 │            77 │    2.49407e-02 │\n",
      "│    6 │   80933.27193 │            15 │    1.20275e-02 │\n",
      "│    7 │   80933.20252 │             7 │    2.55795e-03 │\n",
      "│    8 │   80933.19491 │             1 │    7.01596e-04 │\n",
      "│    9 │   80933.19353 │             1 │    4.01372e-04 │\n",
      "│   10 │   80933.19311 │             0 │    2.37821e-04 │\n",
      "╰──────┴───────────────┴───────────────┴────────────────╯\n",
      "Converged at iteration 10: strict convergence\n"
     ]
    }
   ],
   "source": [
    "c, centroids = lloyd.run(n_clusters=N_CLUSTERS, X=X, init_centroids=init_centroids)"
   ]
  },
  {
   "cell_type": "markdown",
   "id": "21e66504-9336-4838-b00b-bfd2d8a99980",
   "metadata": {},
   "source": [
    "#### Evaluate"
   ]
  },
  {
   "cell_type": "code",
   "execution_count": 6,
   "id": "c5ed95d9-dfe5-477a-a465-f3719cbaffea",
   "metadata": {},
   "outputs": [
    {
     "name": "stdout",
     "output_type": "stream",
     "text": [
      "Evaluating against all metrics\n",
      "╭───────────────────────────┬───────────╮\n",
      "│ average cluster disparity │ 0.0169522 │\n",
      "│ k-means objective         │ 1.75816   │\n",
      "│ fair centroid objective   │ 2.82944   │\n",
      "│ fair k-means objective    │ 2.17318   │\n",
      "╰───────────────────────────┴───────────╯\n"
     ]
    }
   ],
   "source": [
    "_ = metrics.evaluate(X=X, s=s, c=c, centroids=centroids)"
   ]
  }
 ],
 "metadata": {
  "kernelspec": {
   "display_name": "faircentroid",
   "language": "python",
   "name": "faircentroid"
  },
  "language_info": {
   "codemirror_mode": {
    "name": "ipython",
    "version": 3
   },
   "file_extension": ".py",
   "mimetype": "text/x-python",
   "name": "python",
   "nbconvert_exporter": "python",
   "pygments_lexer": "ipython3",
   "version": "3.11.3"
  }
 },
 "nbformat": 4,
 "nbformat_minor": 5
}
