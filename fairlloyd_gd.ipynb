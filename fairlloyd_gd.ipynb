{
 "cells": [
  {
   "cell_type": "markdown",
   "id": "594cfc99-4085-4f81-8c62-919d960eeecb",
   "metadata": {
    "tags": []
   },
   "source": [
    "# Fair-Lloyd (with gradient descent)"
   ]
  },
  {
   "cell_type": "markdown",
   "id": "00b0805d-937d-4458-8bb7-e3155a156da6",
   "metadata": {},
   "source": [
    "#### Libraries"
   ]
  },
  {
   "cell_type": "code",
   "execution_count": 1,
   "id": "dc18c045-6ab1-432e-a9b5-4041d859848e",
   "metadata": {},
   "outputs": [],
   "source": [
    "from importlib import import_module\n",
    "\n",
    "from src import init, metrics\n",
    "from src.algorithms import fairlloyd_gd"
   ]
  },
  {
   "cell_type": "markdown",
   "id": "4a53f42d-cd8a-4390-82c2-bb80ab70f687",
   "metadata": {},
   "source": [
    "#### Experiment configuration"
   ]
  },
  {
   "cell_type": "code",
   "execution_count": 2,
   "id": "4edbd11f-a513-48a9-930f-c37014b9ae49",
   "metadata": {},
   "outputs": [],
   "source": [
    "DATASET_MODULE = 'adult'\n",
    "DATASET_CONFIG = 'data/datasets/Adult_race/adult.yaml'\n",
    "N_CLUSTERS = 5\n",
    "RANDOM_STATE = 0\n",
    "INIT_METHOD = 'kmeans_plusplus'"
   ]
  },
  {
   "cell_type": "markdown",
   "id": "019094f4-db2f-4097-91e3-ea3bb40bfa00",
   "metadata": {},
   "source": [
    "#### Load dataset"
   ]
  },
  {
   "cell_type": "code",
   "execution_count": 3,
   "id": "a8fe3e51-1e18-4a52-8253-a2d0cbfbf836",
   "metadata": {},
   "outputs": [
    {
     "name": "stdout",
     "output_type": "stream",
     "text": [
      "Loading dataset configuration from 'data/datasets/Adult_race/adult.yaml'\n",
      "Loading processed Adult dataset (Adult_race) from 'data/datasets/Adult_race/adult.csv'\n",
      "  shape: (46033, 28)\n",
      "╭────────────┬───────────┬──────────────────┬───────────────────────┬────────────────────╮\n",
      "│    dataset │   samples │   dimensionality │   sensitive attribute │   sensitive groups │\n",
      "├────────────┼───────────┼──────────────────┼───────────────────────┼────────────────────┤\n",
      "│ Adult_race │     46033 │               26 │                  race │                  5 │\n",
      "╰────────────┴───────────┴──────────────────┴───────────────────────┴────────────────────╯\n"
     ]
    }
   ],
   "source": [
    "dataset_module = import_module(f\"src.datasets.{DATASET_MODULE}\")\n",
    "dataset = dataset_module.load(yamlpath=DATASET_CONFIG)\n",
    "X = dataset['X']\n",
    "s = dataset['s']"
   ]
  },
  {
   "cell_type": "markdown",
   "id": "1466a6f4-3d39-469d-baff-5f8c92700778",
   "metadata": {},
   "source": [
    "#### Initialise cluster centroids"
   ]
  },
  {
   "cell_type": "code",
   "execution_count": 4,
   "id": "b968372d-3504-49bd-92ec-99c5212c6ac9",
   "metadata": {},
   "outputs": [
    {
     "name": "stdout",
     "output_type": "stream",
     "text": [
      "shape: (5, 26)\n"
     ]
    }
   ],
   "source": [
    "init_method = getattr(import_module(\"src.init\"), INIT_METHOD)\n",
    "init_centroids = init_method(X=X, n_clusters=N_CLUSTERS, random_state=RANDOM_STATE)\n",
    "print(f\"shape: {init_centroids.shape}\")"
   ]
  },
  {
   "cell_type": "markdown",
   "id": "6d4f9c2a-0db2-4b86-bbd4-c2a928576abe",
   "metadata": {},
   "source": [
    "#### Run Fair-Lloyd"
   ]
  },
  {
   "cell_type": "code",
   "execution_count": 5,
   "id": "bc6bb586-d171-44f1-926e-af92c299e500",
   "metadata": {},
   "outputs": [
    {
     "name": "stdout",
     "output_type": "stream",
     "text": [
      "Configuration:\n",
      "╭───────────────────────────────┬──────────────┬────────────┬────────┬───────┬───────┬────────────╮\n",
      "│                     algorithm │   n_clusters │   max_iter │    tol │   eta │   phi │   patience │\n",
      "├───────────────────────────────┼──────────────┼────────────┼────────┼───────┼───────┼────────────┤\n",
      "│ Fair-Lloyd (Gradient Descent) │            5 │        200 │ 0.0001 │ 0.001 │  1000 │         10 │\n",
      "╰───────────────────────────────┴──────────────┴────────────┴────────┴───────┴───────┴────────────╯\n",
      "Initialising centroids\n",
      "Running algorithm\n",
      "╭──────┬───────────┬───────────────┬────────────────╮\n",
      "│ iter │ objective │ reassignments │ centroid shift │\n",
      "├──────┼───────────┼───────────────┼────────────────┤\n",
      "│    1 │   3.23269 │         46033 │              - │\n",
      "│    2 │   1.97823 │          1320 │    3.26896e+00 │\n",
      "│    3 │   1.92283 │          2169 │    3.32609e-01 │\n",
      "│    4 │   1.88240 │          1669 │    2.55338e-01 │\n",
      "│    5 │   1.87664 │           467 │    1.17450e-01 │\n",
      "│    6 │   1.87529 │           380 │    4.29764e-02 │\n",
      "│    7 │   1.87457 │            93 │    3.13171e-02 │\n",
      "│    8 │   1.87446 │            32 │    6.36168e-03 │\n",
      "│    9 │   1.87444 │             0 │    1.17040e-03 │\n",
      "╰──────┴───────────┴───────────────┴────────────────╯\n",
      "Converged at iteration 9: strict convergence\n"
     ]
    }
   ],
   "source": [
    "c, centroids = fairlloyd_gd.run(n_clusters=N_CLUSTERS, X=X, s=s, init_centroids=init_centroids)"
   ]
  },
  {
   "cell_type": "markdown",
   "id": "d5184366-9fe5-4816-a277-dbf7e30a5ec1",
   "metadata": {},
   "source": [
    "#### Evaluate"
   ]
  },
  {
   "cell_type": "code",
   "execution_count": 6,
   "id": "77e590ed-e190-4968-982a-2f9114f24be7",
   "metadata": {},
   "outputs": [
    {
     "name": "stdout",
     "output_type": "stream",
     "text": [
      "Evaluating against all metrics\n",
      "╭───────────────────────────┬───────────╮\n",
      "│ average cluster disparity │ 0.0247837 │\n",
      "│ k-means objective         │ 1.83009   │\n",
      "│ fair centroid objective   │ 2.93149   │\n",
      "│ fair k-means objective    │ 1.87444   │\n",
      "╰───────────────────────────┴───────────╯\n"
     ]
    }
   ],
   "source": [
    "_ = metrics.evaluate(X=X, s=s, c=c, centroids=centroids)"
   ]
  }
 ],
 "metadata": {
  "kernelspec": {
   "display_name": "faircentroid",
   "language": "python",
   "name": "faircentroid"
  },
  "language_info": {
   "codemirror_mode": {
    "name": "ipython",
    "version": 3
   },
   "file_extension": ".py",
   "mimetype": "text/x-python",
   "name": "python",
   "nbconvert_exporter": "python",
   "pygments_lexer": "ipython3",
   "version": "3.11.3"
  }
 },
 "nbformat": 4,
 "nbformat_minor": 5
}
